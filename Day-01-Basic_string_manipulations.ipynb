{
 "cells": [
  {
   "cell_type": "markdown",
   "metadata": {},
   "source": [
    "## Basic strings or Text cleaning"
   ]
  },
  {
   "cell_type": "code",
   "execution_count": 1,
   "metadata": {},
   "outputs": [
    {
     "data": {
      "text/plain": [
       "'\\n1. Strings can be retrieved using index\\n2. String is immutable\\n'"
      ]
     },
     "execution_count": 1,
     "metadata": {},
     "output_type": "execute_result"
    }
   ],
   "source": [
    "#string \n",
    "\"Winfluentials\"\n",
    "\"\"\"\n",
    "1. Strings can be retrieved using index\n",
    "2. String is immutable\n",
    "\"\"\""
   ]
  },
  {
   "cell_type": "code",
   "execution_count": 2,
   "metadata": {},
   "outputs": [],
   "source": [
    "a = \"Venkateswaran\""
   ]
  },
  {
   "cell_type": "code",
   "execution_count": 3,
   "metadata": {},
   "outputs": [
    {
     "data": {
      "text/plain": [
       "str"
      ]
     },
     "execution_count": 3,
     "metadata": {},
     "output_type": "execute_result"
    }
   ],
   "source": [
    "type(a)"
   ]
  },
  {
   "cell_type": "code",
   "execution_count": 5,
   "metadata": {},
   "outputs": [
    {
     "data": {
      "text/plain": [
       "'a'"
      ]
     },
     "execution_count": 5,
     "metadata": {},
     "output_type": "execute_result"
    }
   ],
   "source": [
    "a[4]"
   ]
  },
  {
   "cell_type": "code",
   "execution_count": 7,
   "metadata": {},
   "outputs": [
    {
     "ename": "TypeError",
     "evalue": "'str' object does not support item assignment",
     "output_type": "error",
     "traceback": [
      "\u001b[1;31m---------------------------------------------------------------------------\u001b[0m",
      "\u001b[1;31mTypeError\u001b[0m                                 Traceback (most recent call last)",
      "\u001b[1;32m<ipython-input-7-7f758ec53311>\u001b[0m in \u001b[0;36m<module>\u001b[1;34m()\u001b[0m\n\u001b[1;32m----> 1\u001b[1;33m \u001b[0ma\u001b[0m\u001b[1;33m[\u001b[0m\u001b[1;36m4\u001b[0m\u001b[1;33m]\u001b[0m \u001b[1;33m=\u001b[0m \u001b[1;34m'h'\u001b[0m\u001b[1;33m\u001b[0m\u001b[0m\n\u001b[0m",
      "\u001b[1;31mTypeError\u001b[0m: 'str' object does not support item assignment"
     ]
    }
   ],
   "source": [
    "a[4] = 'h'"
   ]
  },
  {
   "cell_type": "markdown",
   "metadata": {},
   "source": [
    "## An array is a set of homogeneous collection of data - Strings are collection character data. Strings are Arrays in Python"
   ]
  },
  {
   "cell_type": "code",
   "execution_count": 8,
   "metadata": {},
   "outputs": [
    {
     "name": "stdout",
     "output_type": "stream",
     "text": [
      "kateswaran\n"
     ]
    }
   ],
   "source": [
    "print(a[3:])"
   ]
  },
  {
   "cell_type": "markdown",
   "metadata": {},
   "source": [
    "## String Functions"
   ]
  },
  {
   "cell_type": "code",
   "execution_count": 13,
   "metadata": {},
   "outputs": [
    {
     "data": {
      "text/plain": [
       "'Winfluentials has a weekday batch'"
      ]
     },
     "execution_count": 13,
     "metadata": {},
     "output_type": "execute_result"
    }
   ],
   "source": [
    "a = \"winfluentials has a weekday batch\"\n",
    "a.capitalize()"
   ]
  },
  {
   "cell_type": "code",
   "execution_count": 10,
   "metadata": {},
   "outputs": [],
   "source": [
    "def sum(a,b):\n",
    "    \"\"\"This is the docstring of the function\"\"\"\n",
    "    return a+b"
   ]
  },
  {
   "cell_type": "code",
   "execution_count": 18,
   "metadata": {},
   "outputs": [
    {
     "data": {
      "text/plain": [
       "10"
      ]
     },
     "execution_count": 18,
     "metadata": {},
     "output_type": "execute_result"
    }
   ],
   "source": [
    "sum(4,6)"
   ]
  },
  {
   "cell_type": "code",
   "execution_count": 16,
   "metadata": {},
   "outputs": [],
   "source": [
    "a = a.upper()"
   ]
  },
  {
   "cell_type": "code",
   "execution_count": 17,
   "metadata": {},
   "outputs": [
    {
     "data": {
      "text/plain": [
       "'WINFLUENTIALS HAS A WEEKDAY BATCH'"
      ]
     },
     "execution_count": 17,
     "metadata": {},
     "output_type": "execute_result"
    }
   ],
   "source": [
    "a"
   ]
  },
  {
   "cell_type": "code",
   "execution_count": 19,
   "metadata": {
    "scrolled": true
   },
   "outputs": [
    {
     "data": {
      "text/plain": [
       "{'037': 'cp037',\n",
       " '1026': 'cp1026',\n",
       " '1125': 'cp1125',\n",
       " '1140': 'cp1140',\n",
       " '1250': 'cp1250',\n",
       " '1251': 'cp1251',\n",
       " '1252': 'cp1252',\n",
       " '1253': 'cp1253',\n",
       " '1254': 'cp1254',\n",
       " '1255': 'cp1255',\n",
       " '1256': 'cp1256',\n",
       " '1257': 'cp1257',\n",
       " '1258': 'cp1258',\n",
       " '273': 'cp273',\n",
       " '424': 'cp424',\n",
       " '437': 'cp437',\n",
       " '500': 'cp500',\n",
       " '646': 'ascii',\n",
       " '775': 'cp775',\n",
       " '850': 'cp850',\n",
       " '852': 'cp852',\n",
       " '855': 'cp855',\n",
       " '857': 'cp857',\n",
       " '858': 'cp858',\n",
       " '860': 'cp860',\n",
       " '861': 'cp861',\n",
       " '862': 'cp862',\n",
       " '863': 'cp863',\n",
       " '864': 'cp864',\n",
       " '865': 'cp865',\n",
       " '866': 'cp866',\n",
       " '869': 'cp869',\n",
       " '8859': 'latin_1',\n",
       " '932': 'cp932',\n",
       " '936': 'gbk',\n",
       " '949': 'cp949',\n",
       " '950': 'cp950',\n",
       " 'ansi': 'mbcs',\n",
       " 'ansi_x3.4_1968': 'ascii',\n",
       " 'ansi_x3.4_1986': 'ascii',\n",
       " 'ansi_x3_4_1968': 'ascii',\n",
       " 'arabic': 'iso8859_6',\n",
       " 'asmo_708': 'iso8859_6',\n",
       " 'base64': 'base64_codec',\n",
       " 'base_64': 'base64_codec',\n",
       " 'big5_hkscs': 'big5hkscs',\n",
       " 'big5_tw': 'big5',\n",
       " 'bz2': 'bz2_codec',\n",
       " 'chinese': 'gb2312',\n",
       " 'cp1361': 'johab',\n",
       " 'cp154': 'ptcp154',\n",
       " 'cp367': 'ascii',\n",
       " 'cp819': 'latin_1',\n",
       " 'cp866u': 'cp1125',\n",
       " 'cp936': 'gbk',\n",
       " 'cp_gr': 'cp869',\n",
       " 'cp_is': 'cp861',\n",
       " 'csHPRoman8': 'hp_roman8',\n",
       " 'csascii': 'ascii',\n",
       " 'csbig5': 'big5',\n",
       " 'csibm037': 'cp037',\n",
       " 'csibm1026': 'cp1026',\n",
       " 'csibm273': 'cp273',\n",
       " 'csibm424': 'cp424',\n",
       " 'csibm500': 'cp500',\n",
       " 'csibm855': 'cp855',\n",
       " 'csibm857': 'cp857',\n",
       " 'csibm858': 'cp858',\n",
       " 'csibm860': 'cp860',\n",
       " 'csibm861': 'cp861',\n",
       " 'csibm863': 'cp863',\n",
       " 'csibm864': 'cp864',\n",
       " 'csibm865': 'cp865',\n",
       " 'csibm866': 'cp866',\n",
       " 'csibm869': 'cp869',\n",
       " 'csiso2022jp': 'iso2022_jp',\n",
       " 'csiso2022kr': 'iso2022_kr',\n",
       " 'csiso58gb231280': 'gb2312',\n",
       " 'csisolatin1': 'latin_1',\n",
       " 'csisolatin2': 'iso8859_2',\n",
       " 'csisolatin3': 'iso8859_3',\n",
       " 'csisolatin4': 'iso8859_4',\n",
       " 'csisolatin5': 'iso8859_9',\n",
       " 'csisolatin6': 'iso8859_10',\n",
       " 'csisolatinarabic': 'iso8859_6',\n",
       " 'csisolatincyrillic': 'iso8859_5',\n",
       " 'csisolatingreek': 'iso8859_7',\n",
       " 'csisolatinhebrew': 'iso8859_8',\n",
       " 'cskoi8r': 'koi8_r',\n",
       " 'cspc775baltic': 'cp775',\n",
       " 'cspc850multilingual': 'cp850',\n",
       " 'cspc862latinhebrew': 'cp862',\n",
       " 'cspc8codepage437': 'cp437',\n",
       " 'cspcp852': 'cp852',\n",
       " 'csptcp154': 'ptcp154',\n",
       " 'csshiftjis': 'shift_jis',\n",
       " 'cyrillic': 'iso8859_5',\n",
       " 'cyrillic_asian': 'ptcp154',\n",
       " 'dbcs': 'mbcs',\n",
       " 'ebcdic_cp_be': 'cp500',\n",
       " 'ebcdic_cp_ca': 'cp037',\n",
       " 'ebcdic_cp_ch': 'cp500',\n",
       " 'ebcdic_cp_he': 'cp424',\n",
       " 'ebcdic_cp_nl': 'cp037',\n",
       " 'ebcdic_cp_us': 'cp037',\n",
       " 'ebcdic_cp_wt': 'cp037',\n",
       " 'ecma_114': 'iso8859_6',\n",
       " 'ecma_118': 'iso8859_7',\n",
       " 'elot_928': 'iso8859_7',\n",
       " 'euc_cn': 'gb2312',\n",
       " 'euc_jis2004': 'euc_jis_2004',\n",
       " 'euccn': 'gb2312',\n",
       " 'eucgb2312_cn': 'gb2312',\n",
       " 'eucjis2004': 'euc_jis_2004',\n",
       " 'eucjisx0213': 'euc_jisx0213',\n",
       " 'eucjp': 'euc_jp',\n",
       " 'euckr': 'euc_kr',\n",
       " 'gb18030_2000': 'gb18030',\n",
       " 'gb2312_1980': 'gb2312',\n",
       " 'gb2312_80': 'gb2312',\n",
       " 'greek': 'iso8859_7',\n",
       " 'greek8': 'iso8859_7',\n",
       " 'hebrew': 'iso8859_8',\n",
       " 'hex': 'hex_codec',\n",
       " 'hkscs': 'big5hkscs',\n",
       " 'hz_gb': 'hz',\n",
       " 'hz_gb_2312': 'hz',\n",
       " 'hzgb': 'hz',\n",
       " 'ibm037': 'cp037',\n",
       " 'ibm039': 'cp037',\n",
       " 'ibm1026': 'cp1026',\n",
       " 'ibm1125': 'cp1125',\n",
       " 'ibm1140': 'cp1140',\n",
       " 'ibm273': 'cp273',\n",
       " 'ibm367': 'ascii',\n",
       " 'ibm424': 'cp424',\n",
       " 'ibm437': 'cp437',\n",
       " 'ibm500': 'cp500',\n",
       " 'ibm775': 'cp775',\n",
       " 'ibm819': 'latin_1',\n",
       " 'ibm850': 'cp850',\n",
       " 'ibm852': 'cp852',\n",
       " 'ibm855': 'cp855',\n",
       " 'ibm857': 'cp857',\n",
       " 'ibm858': 'cp858',\n",
       " 'ibm860': 'cp860',\n",
       " 'ibm861': 'cp861',\n",
       " 'ibm862': 'cp862',\n",
       " 'ibm863': 'cp863',\n",
       " 'ibm864': 'cp864',\n",
       " 'ibm865': 'cp865',\n",
       " 'ibm866': 'cp866',\n",
       " 'ibm869': 'cp869',\n",
       " 'iso2022jp': 'iso2022_jp',\n",
       " 'iso2022jp_1': 'iso2022_jp_1',\n",
       " 'iso2022jp_2': 'iso2022_jp_2',\n",
       " 'iso2022jp_2004': 'iso2022_jp_2004',\n",
       " 'iso2022jp_3': 'iso2022_jp_3',\n",
       " 'iso2022jp_ext': 'iso2022_jp_ext',\n",
       " 'iso2022kr': 'iso2022_kr',\n",
       " 'iso646_us': 'ascii',\n",
       " 'iso8859': 'latin_1',\n",
       " 'iso8859_1': 'latin_1',\n",
       " 'iso_2022_jp': 'iso2022_jp',\n",
       " 'iso_2022_jp_1': 'iso2022_jp_1',\n",
       " 'iso_2022_jp_2': 'iso2022_jp_2',\n",
       " 'iso_2022_jp_2004': 'iso2022_jp_2004',\n",
       " 'iso_2022_jp_3': 'iso2022_jp_3',\n",
       " 'iso_2022_jp_ext': 'iso2022_jp_ext',\n",
       " 'iso_2022_kr': 'iso2022_kr',\n",
       " 'iso_646.irv_1991': 'ascii',\n",
       " 'iso_8859_1': 'latin_1',\n",
       " 'iso_8859_10': 'iso8859_10',\n",
       " 'iso_8859_10_1992': 'iso8859_10',\n",
       " 'iso_8859_11': 'iso8859_11',\n",
       " 'iso_8859_11_2001': 'iso8859_11',\n",
       " 'iso_8859_13': 'iso8859_13',\n",
       " 'iso_8859_14': 'iso8859_14',\n",
       " 'iso_8859_14_1998': 'iso8859_14',\n",
       " 'iso_8859_15': 'iso8859_15',\n",
       " 'iso_8859_16': 'iso8859_16',\n",
       " 'iso_8859_16_2001': 'iso8859_16',\n",
       " 'iso_8859_1_1987': 'latin_1',\n",
       " 'iso_8859_2': 'iso8859_2',\n",
       " 'iso_8859_2_1987': 'iso8859_2',\n",
       " 'iso_8859_3': 'iso8859_3',\n",
       " 'iso_8859_3_1988': 'iso8859_3',\n",
       " 'iso_8859_4': 'iso8859_4',\n",
       " 'iso_8859_4_1988': 'iso8859_4',\n",
       " 'iso_8859_5': 'iso8859_5',\n",
       " 'iso_8859_5_1988': 'iso8859_5',\n",
       " 'iso_8859_6': 'iso8859_6',\n",
       " 'iso_8859_6_1987': 'iso8859_6',\n",
       " 'iso_8859_7': 'iso8859_7',\n",
       " 'iso_8859_7_1987': 'iso8859_7',\n",
       " 'iso_8859_8': 'iso8859_8',\n",
       " 'iso_8859_8_1988': 'iso8859_8',\n",
       " 'iso_8859_9': 'iso8859_9',\n",
       " 'iso_8859_9_1989': 'iso8859_9',\n",
       " 'iso_celtic': 'iso8859_14',\n",
       " 'iso_ir_100': 'latin_1',\n",
       " 'iso_ir_101': 'iso8859_2',\n",
       " 'iso_ir_109': 'iso8859_3',\n",
       " 'iso_ir_110': 'iso8859_4',\n",
       " 'iso_ir_126': 'iso8859_7',\n",
       " 'iso_ir_127': 'iso8859_6',\n",
       " 'iso_ir_138': 'iso8859_8',\n",
       " 'iso_ir_144': 'iso8859_5',\n",
       " 'iso_ir_148': 'iso8859_9',\n",
       " 'iso_ir_157': 'iso8859_10',\n",
       " 'iso_ir_166': 'tis_620',\n",
       " 'iso_ir_199': 'iso8859_14',\n",
       " 'iso_ir_226': 'iso8859_16',\n",
       " 'iso_ir_58': 'gb2312',\n",
       " 'iso_ir_6': 'ascii',\n",
       " 'jisx0213': 'euc_jis_2004',\n",
       " 'korean': 'euc_kr',\n",
       " 'ks_c_5601': 'euc_kr',\n",
       " 'ks_c_5601_1987': 'euc_kr',\n",
       " 'ks_x_1001': 'euc_kr',\n",
       " 'ksc5601': 'euc_kr',\n",
       " 'ksx1001': 'euc_kr',\n",
       " 'kz_1048': 'kz1048',\n",
       " 'l1': 'latin_1',\n",
       " 'l10': 'iso8859_16',\n",
       " 'l2': 'iso8859_2',\n",
       " 'l3': 'iso8859_3',\n",
       " 'l4': 'iso8859_4',\n",
       " 'l5': 'iso8859_9',\n",
       " 'l6': 'iso8859_10',\n",
       " 'l7': 'iso8859_13',\n",
       " 'l8': 'iso8859_14',\n",
       " 'l9': 'iso8859_15',\n",
       " 'latin': 'latin_1',\n",
       " 'latin1': 'latin_1',\n",
       " 'latin10': 'iso8859_16',\n",
       " 'latin2': 'iso8859_2',\n",
       " 'latin3': 'iso8859_3',\n",
       " 'latin4': 'iso8859_4',\n",
       " 'latin5': 'iso8859_9',\n",
       " 'latin6': 'iso8859_10',\n",
       " 'latin7': 'iso8859_13',\n",
       " 'latin8': 'iso8859_14',\n",
       " 'latin9': 'iso8859_15',\n",
       " 'maccentraleurope': 'mac_latin2',\n",
       " 'maccyrillic': 'mac_cyrillic',\n",
       " 'macgreek': 'mac_greek',\n",
       " 'maciceland': 'mac_iceland',\n",
       " 'macintosh': 'mac_roman',\n",
       " 'maclatin2': 'mac_latin2',\n",
       " 'macroman': 'mac_roman',\n",
       " 'macturkish': 'mac_turkish',\n",
       " 'ms1361': 'johab',\n",
       " 'ms932': 'cp932',\n",
       " 'ms936': 'gbk',\n",
       " 'ms949': 'cp949',\n",
       " 'ms950': 'cp950',\n",
       " 'ms_kanji': 'cp932',\n",
       " 'mskanji': 'cp932',\n",
       " 'pt154': 'ptcp154',\n",
       " 'quopri': 'quopri_codec',\n",
       " 'quoted_printable': 'quopri_codec',\n",
       " 'quotedprintable': 'quopri_codec',\n",
       " 'r8': 'hp_roman8',\n",
       " 'rk1048': 'kz1048',\n",
       " 'roman8': 'hp_roman8',\n",
       " 'rot13': 'rot_13',\n",
       " 'ruscii': 'cp1125',\n",
       " 's_jis': 'shift_jis',\n",
       " 's_jis_2004': 'shift_jis_2004',\n",
       " 's_jisx0213': 'shift_jisx0213',\n",
       " 'shiftjis': 'shift_jis',\n",
       " 'shiftjis2004': 'shift_jis_2004',\n",
       " 'shiftjisx0213': 'shift_jisx0213',\n",
       " 'sjis': 'shift_jis',\n",
       " 'sjis_2004': 'shift_jis_2004',\n",
       " 'sjisx0213': 'shift_jisx0213',\n",
       " 'strk1048_2002': 'kz1048',\n",
       " 'thai': 'iso8859_11',\n",
       " 'tis260': 'tactis',\n",
       " 'tis620': 'tis_620',\n",
       " 'tis_620_0': 'tis_620',\n",
       " 'tis_620_2529_0': 'tis_620',\n",
       " 'tis_620_2529_1': 'tis_620',\n",
       " 'u16': 'utf_16',\n",
       " 'u32': 'utf_32',\n",
       " 'u7': 'utf_7',\n",
       " 'u8': 'utf_8',\n",
       " 'u_jis': 'euc_jp',\n",
       " 'uhc': 'cp949',\n",
       " 'ujis': 'euc_jp',\n",
       " 'unicode_1_1_utf_7': 'utf_7',\n",
       " 'unicodebigunmarked': 'utf_16_be',\n",
       " 'unicodelittleunmarked': 'utf_16_le',\n",
       " 'us': 'ascii',\n",
       " 'us_ascii': 'ascii',\n",
       " 'utf': 'utf_8',\n",
       " 'utf16': 'utf_16',\n",
       " 'utf32': 'utf_32',\n",
       " 'utf7': 'utf_7',\n",
       " 'utf8': 'utf_8',\n",
       " 'utf8_ucs2': 'utf_8',\n",
       " 'utf8_ucs4': 'utf_8',\n",
       " 'utf_16be': 'utf_16_be',\n",
       " 'utf_16le': 'utf_16_le',\n",
       " 'utf_32be': 'utf_32_be',\n",
       " 'utf_32le': 'utf_32_le',\n",
       " 'uu': 'uu_codec',\n",
       " 'windows_1250': 'cp1250',\n",
       " 'windows_1251': 'cp1251',\n",
       " 'windows_1252': 'cp1252',\n",
       " 'windows_1253': 'cp1253',\n",
       " 'windows_1254': 'cp1254',\n",
       " 'windows_1255': 'cp1255',\n",
       " 'windows_1256': 'cp1256',\n",
       " 'windows_1257': 'cp1257',\n",
       " 'windows_1258': 'cp1258',\n",
       " 'x_mac_japanese': 'shift_jis',\n",
       " 'x_mac_korean': 'euc_kr',\n",
       " 'x_mac_simp_chinese': 'gb2312',\n",
       " 'x_mac_trad_chinese': 'big5',\n",
       " 'zip': 'zlib_codec',\n",
       " 'zlib': 'zlib_codec'}"
      ]
     },
     "execution_count": 19,
     "metadata": {},
     "output_type": "execute_result"
    }
   ],
   "source": [
    "from encodings.aliases import aliases\n",
    "aliases\n",
    "#all the text are stored in terms of UTF-8 Encoding in python"
   ]
  },
  {
   "cell_type": "code",
   "execution_count": 20,
   "metadata": {},
   "outputs": [],
   "source": [
    "#UTF - Unicode Tranformation Format\n",
    "#1,112,064 Valid characters - saved as 1 - 4 (one byte code units) 1byte = 8 bits (bits are the basic units of storage of any data in a computer)\n",
    "review = \"\"\"The headphpones are Awesome. \n",
    "I totally loved it\"\"\""
   ]
  },
  {
   "cell_type": "markdown",
   "metadata": {},
   "source": [
    "## Split"
   ]
  },
  {
   "cell_type": "code",
   "execution_count": 21,
   "metadata": {},
   "outputs": [
    {
     "data": {
      "text/plain": [
       "['The headphpones are Awesome', ' \\nI totally loved it']"
      ]
     },
     "execution_count": 21,
     "metadata": {},
     "output_type": "execute_result"
    }
   ],
   "source": [
    "review.split('.')"
   ]
  },
  {
   "cell_type": "code",
   "execution_count": 25,
   "metadata": {},
   "outputs": [
    {
     "data": {
      "text/plain": [
       "True"
      ]
     },
     "execution_count": 25,
     "metadata": {},
     "output_type": "execute_result"
    }
   ],
   "source": [
    "win = \"The headphones are horrible. The software does not match with my mac software.\"\n",
    "\"mac\" in win"
   ]
  },
  {
   "cell_type": "code",
   "execution_count": 26,
   "metadata": {},
   "outputs": [
    {
     "data": {
      "text/plain": [
       "False"
      ]
     },
     "execution_count": 26,
     "metadata": {},
     "output_type": "execute_result"
    }
   ],
   "source": [
    "win = \"The headphones are horrible. The software does not match with my mac software.\"\n",
    "\"windows\" in win"
   ]
  },
  {
   "cell_type": "markdown",
   "metadata": {},
   "source": [
    "## Formatting"
   ]
  },
  {
   "cell_type": "code",
   "execution_count": 27,
   "metadata": {},
   "outputs": [
    {
     "name": "stdout",
     "output_type": "stream",
     "text": [
      "The ML class was taken by: Sundhar. The NLP classes will be taken by: Laxmi\n"
     ]
    }
   ],
   "source": [
    "mentor1 = \"Sundhar\"\n",
    "mentor2 = \"Laxmi\"\n",
    "print(\"The ML class was taken by: {}. The NLP classes will be taken by: {}\".format(mentor1,mentor2))"
   ]
  },
  {
   "cell_type": "code",
   "execution_count": 28,
   "metadata": {},
   "outputs": [
    {
     "name": "stdout",
     "output_type": "stream",
     "text": [
      "The ML class was taken by: Laxmi. The NLP classes will be taken by: Sundhar\n"
     ]
    }
   ],
   "source": [
    "mentor1 = \"Sundhar\"\n",
    "mentor2 = \"Laxmi\"\n",
    "print(\"The ML class was taken by: {1}. The NLP classes will be taken by: {0}\".format(mentor1,mentor2))"
   ]
  },
  {
   "cell_type": "code",
   "execution_count": null,
   "metadata": {},
   "outputs": [],
   "source": [
    "#Escape character - \\"
   ]
  },
  {
   "cell_type": "code",
   "execution_count": 31,
   "metadata": {},
   "outputs": [
    {
     "name": "stdout",
     "output_type": "stream",
     "text": [
      "The classes are \"Live\" now\n"
     ]
    }
   ],
   "source": [
    "print(\"The classes are \\\"Live\\\" now\")"
   ]
  },
  {
   "cell_type": "code",
   "execution_count": 32,
   "metadata": {},
   "outputs": [
    {
     "data": {
      "text/plain": [
       "'I hate the product.This is not what I came for'"
      ]
     },
     "execution_count": 32,
     "metadata": {},
     "output_type": "execute_result"
    }
   ],
   "source": [
    "review = \"                                                                            I hate the product.This is not what I came for\"\n",
    "review.lstrip()"
   ]
  },
  {
   "cell_type": "code",
   "execution_count": 33,
   "metadata": {},
   "outputs": [
    {
     "data": {
      "text/plain": [
       "' I hate the product'"
      ]
     },
     "execution_count": 33,
     "metadata": {},
     "output_type": "execute_result"
    }
   ],
   "source": [
    "review = \"******************** I hate the product\"\n",
    "review.lstrip('*')"
   ]
  },
  {
   "cell_type": "code",
   "execution_count": 37,
   "metadata": {},
   "outputs": [
    {
     "data": {
      "text/plain": [
       "'I hate the product'"
      ]
     },
     "execution_count": 37,
     "metadata": {},
     "output_type": "execute_result"
    }
   ],
   "source": [
    "review = \"I hate the product              \"\n",
    "review.rstrip()"
   ]
  },
  {
   "cell_type": "code",
   "execution_count": 38,
   "metadata": {},
   "outputs": [
    {
     "data": {
      "text/plain": [
       "'I hate the product '"
      ]
     },
     "execution_count": 38,
     "metadata": {},
     "output_type": "execute_result"
    }
   ],
   "source": [
    "review = \"I hate the product *****************\"\n",
    "review.rstrip('*')"
   ]
  },
  {
   "cell_type": "code",
   "execution_count": 39,
   "metadata": {},
   "outputs": [
    {
     "data": {
      "text/plain": [
       "'I hate this product'"
      ]
     },
     "execution_count": 39,
     "metadata": {},
     "output_type": "execute_result"
    }
   ],
   "source": [
    "review = \"I hate this product      \"\n",
    "review.strip()"
   ]
  },
  {
   "cell_type": "code",
   "execution_count": 40,
   "metadata": {},
   "outputs": [
    {
     "data": {
      "text/plain": [
       "25"
      ]
     },
     "execution_count": 40,
     "metadata": {},
     "output_type": "execute_result"
    }
   ],
   "source": [
    "review = \"I          hate                 this               product                 \"\n",
    "len(review)"
   ]
  },
  {
   "cell_type": "code",
   "execution_count": 41,
   "metadata": {},
   "outputs": [
    {
     "data": {
      "text/plain": [
       "'I hate this product'"
      ]
     },
     "execution_count": 41,
     "metadata": {},
     "output_type": "execute_result"
    }
   ],
   "source": [
    "\" \".join(review.split())"
   ]
  },
  {
   "cell_type": "code",
   "execution_count": 42,
   "metadata": {},
   "outputs": [
    {
     "data": {
      "text/plain": [
       "'I_hate_this_product'"
      ]
     },
     "execution_count": 42,
     "metadata": {},
     "output_type": "execute_result"
    }
   ],
   "source": [
    "\"_\".join(review.split())"
   ]
  },
  {
   "cell_type": "code",
   "execution_count": 44,
   "metadata": {},
   "outputs": [],
   "source": [
    "review = \"Venkateswaran ,,,,,,,,,,,,,,,,,,,,,;;;;;;;;;;;;;;;;;;;;sssssssssssssssssssssssssssssssddddddddddddddddddddddd\""
   ]
  },
  {
   "cell_type": "code",
   "execution_count": 47,
   "metadata": {},
   "outputs": [
    {
     "data": {
      "text/plain": [
       "'Venkateswaran'"
      ]
     },
     "execution_count": 47,
     "metadata": {},
     "output_type": "execute_result"
    }
   ],
   "source": [
    "review.rstrip(\" ,;sd\")"
   ]
  },
  {
   "cell_type": "markdown",
   "metadata": {},
   "source": [
    "# Regular Expressions\n",
    "as sequence of characters that define a search pattern. "
   ]
  },
  {
   "cell_type": "code",
   "execution_count": 48,
   "metadata": {},
   "outputs": [],
   "source": [
    "import re"
   ]
  },
  {
   "cell_type": "code",
   "execution_count": 51,
   "metadata": {},
   "outputs": [],
   "source": [
    "s1 = \"Python is an excellent language\"\n",
    "s2 = \"I love python language. I use Python it to build applications.\""
   ]
  },
  {
   "cell_type": "code",
   "execution_count": 50,
   "metadata": {},
   "outputs": [],
   "source": [
    "pattern = 'Python'"
   ]
  },
  {
   "cell_type": "code",
   "execution_count": 61,
   "metadata": {},
   "outputs": [
    {
     "data": {
      "text/plain": [
       "'Python'"
      ]
     },
     "execution_count": 61,
     "metadata": {},
     "output_type": "execute_result"
    }
   ],
   "source": [
    "match = re.match(pattern,s1,re.IGNORECASE)\n",
    "match.group(0)"
   ]
  },
  {
   "cell_type": "code",
   "execution_count": 57,
   "metadata": {},
   "outputs": [
    {
     "ename": "AttributeError",
     "evalue": "'NoneType' object has no attribute 'group'",
     "output_type": "error",
     "traceback": [
      "\u001b[1;31m---------------------------------------------------------------------------\u001b[0m",
      "\u001b[1;31mAttributeError\u001b[0m                            Traceback (most recent call last)",
      "\u001b[1;32m<ipython-input-57-24f0b71d916a>\u001b[0m in \u001b[0;36m<module>\u001b[1;34m()\u001b[0m\n\u001b[0;32m      1\u001b[0m \u001b[0mmatch2\u001b[0m \u001b[1;33m=\u001b[0m \u001b[0mre\u001b[0m\u001b[1;33m.\u001b[0m\u001b[0mmatch\u001b[0m\u001b[1;33m(\u001b[0m\u001b[0mpattern\u001b[0m\u001b[1;33m,\u001b[0m\u001b[0ms2\u001b[0m\u001b[1;33m)\u001b[0m\u001b[1;33m\u001b[0m\u001b[0m\n\u001b[1;32m----> 2\u001b[1;33m \u001b[0mmatch2\u001b[0m\u001b[1;33m.\u001b[0m\u001b[0mgroup\u001b[0m\u001b[1;33m(\u001b[0m\u001b[1;36m0\u001b[0m\u001b[1;33m)\u001b[0m\u001b[1;33m\u001b[0m\u001b[0m\n\u001b[0m",
      "\u001b[1;31mAttributeError\u001b[0m: 'NoneType' object has no attribute 'group'"
     ]
    }
   ],
   "source": [
    "match2 = re.match(pattern,s2)\n",
    "match2.group(0)"
   ]
  },
  {
   "cell_type": "markdown",
   "metadata": {},
   "source": [
    "## RE.search"
   ]
  },
  {
   "cell_type": "code",
   "execution_count": 62,
   "metadata": {},
   "outputs": [
    {
     "data": {
      "text/plain": [
       "'Python'"
      ]
     },
     "execution_count": 62,
     "metadata": {},
     "output_type": "execute_result"
    }
   ],
   "source": [
    "m = re.search(pattern,s1,re.IGNORECASE)\n",
    "m.group(0)"
   ]
  },
  {
   "cell_type": "code",
   "execution_count": 69,
   "metadata": {},
   "outputs": [
    {
     "data": {
      "text/plain": [
       "'python'"
      ]
     },
     "execution_count": 69,
     "metadata": {},
     "output_type": "execute_result"
    }
   ],
   "source": [
    "m2 = re.search(pattern,s2,re.IGNORECASE)\n",
    "m2.group(0)"
   ]
  },
  {
   "cell_type": "code",
   "execution_count": 70,
   "metadata": {},
   "outputs": [
    {
     "data": {
      "text/plain": [
       "['python', 'Python']"
      ]
     },
     "execution_count": 70,
     "metadata": {},
     "output_type": "execute_result"
    }
   ],
   "source": [
    "m2 = re.findall(pattern,s2,re.IGNORECASE)\n",
    "m2"
   ]
  },
  {
   "cell_type": "code",
   "execution_count": 88,
   "metadata": {},
   "outputs": [],
   "source": [
    "string = \"I am laxmi you can contact me at: A8853-66783, phone_number\""
   ]
  },
  {
   "cell_type": "code",
   "execution_count": 89,
   "metadata": {},
   "outputs": [],
   "source": [
    "phone_number_pattern = re.compile(r'[A-Z][0-9][0-9][0-9][0-9]-\\d\\d\\d\\d\\d')"
   ]
  },
  {
   "cell_type": "code",
   "execution_count": 90,
   "metadata": {},
   "outputs": [],
   "source": [
    "mobile_num = phone_number_pattern.search(string)"
   ]
  },
  {
   "cell_type": "code",
   "execution_count": 91,
   "metadata": {},
   "outputs": [
    {
     "data": {
      "text/plain": [
       "'A8853-66783'"
      ]
     },
     "execution_count": 91,
     "metadata": {},
     "output_type": "execute_result"
    }
   ],
   "source": [
    "mobile_num.group(0)"
   ]
  },
  {
   "cell_type": "markdown",
   "metadata": {},
   "source": [
    "'\\d' - Match the digits [0-9]\n",
    "\n",
    "\n",
    "'\\D' = Matches the non digits [A-Z][a-z]\n",
    "\n",
    "\n",
    "'\\s' = matches white spaces\n",
    "\n",
    "\n",
    "'\\Z' = Matches any pattern at the end of the string\n",
    "\n",
    "\n",
    "^ - Matches the beginning"
   ]
  },
  {
   "cell_type": "code",
   "execution_count": 121,
   "metadata": {},
   "outputs": [],
   "source": [
    "def allowed_characters(string):\n",
    "    pattern = re.compile('[a-zA-Z0-9.]+')\n",
    "    string = pattern.findall(string)\n",
    "    return ' '.join(string)"
   ]
  },
  {
   "cell_type": "code",
   "execution_count": 122,
   "metadata": {},
   "outputs": [
    {
     "data": {
      "text/plain": [
       "'Venkateswaran Completed his Python course.'"
      ]
     },
     "execution_count": 122,
     "metadata": {},
     "output_type": "execute_result"
    }
   ],
   "source": [
    "allowed_characters('Venkateswaran $#$#$$#$ Completed his Python course.')"
   ]
  },
  {
   "cell_type": "markdown",
   "metadata": {},
   "source": [
    "## SUB"
   ]
  },
  {
   "cell_type": "code",
   "execution_count": 123,
   "metadata": {},
   "outputs": [
    {
     "data": {
      "text/plain": [
       "'Python'"
      ]
     },
     "execution_count": 123,
     "metadata": {},
     "output_type": "execute_result"
    }
   ],
   "source": [
    "pattern"
   ]
  },
  {
   "cell_type": "code",
   "execution_count": 124,
   "metadata": {},
   "outputs": [
    {
     "data": {
      "text/plain": [
       "'I love python language. I use Python it to build applications.'"
      ]
     },
     "execution_count": 124,
     "metadata": {},
     "output_type": "execute_result"
    }
   ],
   "source": [
    "s2"
   ]
  },
  {
   "cell_type": "code",
   "execution_count": 126,
   "metadata": {},
   "outputs": [
    {
     "data": {
      "text/plain": [
       "'I love Java language. I use Java it to build applications.'"
      ]
     },
     "execution_count": 126,
     "metadata": {},
     "output_type": "execute_result"
    }
   ],
   "source": [
    "re.sub(pattern,'Java',s2,flags = re.I)"
   ]
  },
  {
   "cell_type": "code",
   "execution_count": 127,
   "metadata": {},
   "outputs": [],
   "source": [
    "def replace_phonenumber(string, pattern):\n",
    "    string = re.sub(pattern,'Phone_number',string)\n",
    "    return string"
   ]
  },
  {
   "cell_type": "code",
   "execution_count": 129,
   "metadata": {},
   "outputs": [
    {
     "data": {
      "text/plain": [
       "'I am laxmi you can contact me at: Phone_number, Phone_number'"
      ]
     },
     "execution_count": 129,
     "metadata": {},
     "output_type": "execute_result"
    }
   ],
   "source": [
    "string = \"I am laxmi you can contact me at: 78853-66783, 78853-66743\"\n",
    "phone_pattern =  re.compile(r'[0-9][0-9][0-9][0-9][0-9]-\\d\\d\\d\\d\\d')\n",
    "replace_phonenumber(string,phone_pattern)"
   ]
  },
  {
   "cell_type": "markdown",
   "metadata": {},
   "source": [
    "## NLTK - Natural Language Processing Tool Kit"
   ]
  },
  {
   "cell_type": "code",
   "execution_count": null,
   "metadata": {},
   "outputs": [],
   "source": [
    "!pip install nltk\n",
    "!conda install -c nltk --y"
   ]
  },
  {
   "cell_type": "code",
   "execution_count": 130,
   "metadata": {},
   "outputs": [],
   "source": [
    "import nltk"
   ]
  },
  {
   "cell_type": "code",
   "execution_count": 137,
   "metadata": {},
   "outputs": [],
   "source": [
    "review = \"I Love realme. But I like apple more.\""
   ]
  },
  {
   "cell_type": "markdown",
   "metadata": {},
   "source": [
    "Tokenization is the process of spliting it he text into tokens\n",
    "\n",
    "Sentence + tokenization = Sentence tokenization splitting text into sentence"
   ]
  },
  {
   "cell_type": "code",
   "execution_count": 138,
   "metadata": {},
   "outputs": [],
   "source": [
    "sent = nltk.sent_tokenize(review)"
   ]
  },
  {
   "cell_type": "code",
   "execution_count": 139,
   "metadata": {},
   "outputs": [
    {
     "data": {
      "text/plain": [
       "['I Love realme.', 'But I like apple more.']"
      ]
     },
     "execution_count": 139,
     "metadata": {},
     "output_type": "execute_result"
    }
   ],
   "source": [
    "sent"
   ]
  },
  {
   "cell_type": "code",
   "execution_count": 140,
   "metadata": {},
   "outputs": [
    {
     "data": {
      "text/plain": [
       "'But I like apple more.'"
      ]
     },
     "execution_count": 140,
     "metadata": {},
     "output_type": "execute_result"
    }
   ],
   "source": [
    "sent[1]"
   ]
  },
  {
   "cell_type": "markdown",
   "metadata": {},
   "source": [
    "Word tokenization = splitting the text into words"
   ]
  },
  {
   "cell_type": "code",
   "execution_count": 141,
   "metadata": {},
   "outputs": [],
   "source": [
    "words = nltk.word_tokenize(review)"
   ]
  },
  {
   "cell_type": "code",
   "execution_count": 142,
   "metadata": {},
   "outputs": [
    {
     "data": {
      "text/plain": [
       "['I', 'Love', 'realme', '.', 'But', 'I', 'like', 'apple', 'more', '.']"
      ]
     },
     "execution_count": 142,
     "metadata": {},
     "output_type": "execute_result"
    }
   ],
   "source": [
    "words"
   ]
  },
  {
   "cell_type": "code",
   "execution_count": null,
   "metadata": {},
   "outputs": [],
   "source": []
  }
 ],
 "metadata": {
  "kernelspec": {
   "display_name": "Python 3",
   "language": "python",
   "name": "python3"
  },
  "language_info": {
   "codemirror_mode": {
    "name": "ipython",
    "version": 3
   },
   "file_extension": ".py",
   "mimetype": "text/x-python",
   "name": "python",
   "nbconvert_exporter": "python",
   "pygments_lexer": "ipython3",
   "version": "3.7.0"
  }
 },
 "nbformat": 4,
 "nbformat_minor": 2
}
